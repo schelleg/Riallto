{
 "cells": [
  {
   "cell_type": "code",
   "execution_count": null,
   "id": "049ec647-1d34-46d6-9ba3-91a694486e92",
   "metadata": {},
   "outputs": [],
   "source": [
    "import sys\n",
    "sys.path.append(\"../..\")"
   ]
  },
  {
   "cell_type": "markdown",
   "id": "20c18e1f-a1cf-43a7-9ad6-c0c042d190b3",
   "metadata": {},
   "source": [
    "## Proof of Concept: Single Kernel Test Application\n",
    "\n",
    "To test out a new kernel, the `SingleKernelApp` class would allow users to quickly test the kernel by running it on the NPU.\n",
    "\n",
    "For example, to create a test application for the Inverse kernel, it is 1 LoC to create the application with `invapp = SingleKernelApp(Inverse)`"
   ]
  },
  {
   "cell_type": "code",
   "execution_count": null,
   "id": "96f10a33-64ab-470b-99d2-89dbf12a01ef",
   "metadata": {},
   "outputs": [],
   "source": [
    "from npu.build.appbuilder import AppBuilder\n",
    "from npu.build.kernel import Kernel\n",
    "import numpy as np\n",
    "\n",
    "class SingleKernelApp(AppBuilder):\n",
    "    def __init__(self, kernelfx):\n",
    "\n",
    "        if isinstance(kernelfx, type):\n",
    "            self.kernelfx = kernelfx()\n",
    "        elif isinstance(kernelfx, Kernel) and callable(kernelfx):\n",
    "            self.kernelfx = kernelfx\n",
    "        else:\n",
    "            raise Exception(\"kernelfx must be a Kernel or a Kernel instance\")\n",
    "\n",
    "        super().__init__()\n",
    "\n",
    "    def callgraph(self, *args, **kwargs):\n",
    "        return self.kernelfx(*args, **kwargs)"
   ]
  },
  {
   "cell_type": "code",
   "execution_count": null,
   "id": "3400ec27-6fc6-4222-940b-eaae6f3aaf05",
   "metadata": {},
   "outputs": [
    {
     "data": {
      "text/plain": [
       "array([[ 0,  1,  2,  3,  4,  5,  6,  7],\n",
       "       [ 8,  9, 10, 11, 12, 13, 14, 15]])"
      ]
     },
     "execution_count": 3,
     "metadata": {},
     "output_type": "execute_result"
    }
   ],
   "source": [
    "iarray = np.arange(16).reshape((2, 8))\n",
    "iarray"
   ]
  },
  {
   "cell_type": "code",
   "execution_count": null,
   "id": "028a5b71-6c01-4c5d-9224-09088ad9a1d4",
   "metadata": {},
   "outputs": [
    {
     "data": {
      "text/plain": [
       "array([[255, 254, 253, 252, 251, 250, 249, 248],\n",
       "       [247, 246, 245, 244, 243, 242, 241, 240]])"
      ]
     },
     "execution_count": 4,
     "metadata": {},
     "output_type": "execute_result"
    }
   ],
   "source": [
    "from npu.lib.kernels import Inverse\n",
    "\n",
    "# The App is constructed and then its behavioral model called\n",
    "invapp = SingleKernelApp(Inverse)\n",
    "invapp(iarray, iarray.nbytes)"
   ]
  },
  {
   "cell_type": "code",
   "execution_count": null,
   "id": "3098eee2-163d-49c3-b83d-6f55f2c5005b",
   "metadata": {},
   "outputs": [
    {
     "name": "stdout",
     "output_type": "stream",
     "text": [
      "Using cached inverse kernel object file...\n",
      "Building the xclbin...\n",
      "Successfully Building Application... SingleKernelApp.xclbin & SingleKernelApp.seq delivered\n"
     ]
    }
   ],
   "source": [
    "invapp.build(iarray, iarray.nbytes)"
   ]
  },
  {
   "cell_type": "code",
   "execution_count": null,
   "id": "170e59bd",
   "metadata": {},
   "outputs": [],
   "source": [
    "from npu.runtime import AppRunner\n",
    "\n",
    "app = AppRunner('SingleKernelApp.xclbin') \n",
    "inbuffer = app.allocate(shape=iarray.shape, dtype=iarray.dtype)\n",
    "outbuffer = app.allocate(shape=iarray.shape, dtype=iarray.dtype)\n",
    "\n",
    "inbuffer.sync_to_npu()\n",
    "app(inbuffer, outbuffer)\n",
    "outbuffer.sync_from_npu()\n",
    "\n",
    "outbuffer"
   ]
  },
  {
   "cell_type": "code",
   "execution_count": null,
   "id": "3dacf351",
   "metadata": {},
   "outputs": [],
   "source": [
    "import numpy as np\n",
    "class SingleKernelRunner:\n",
    "    def __init__(self, bufs) -> None:\n",
    "        self.bufs = [np.copy(b) for b in bufs]\n",
    "\n",
    "    def run(self):   \n",
    "                 \n",
    "        app = AppRunner('SingleKernelApp.xclbin') \n",
    "\n",
    "        appbufs = [app.allocate(shape=b.shape, dtype=b.dtype) for b in self.bufs]\n",
    "        _ = [b.sync_to_npu() for b in appbufs]\n",
    "\n",
    "        app(*appbufs)\n",
    "\n",
    "        _ = [b.sync_from_npu() for b in appbufs]\n",
    "        _ = [print(b) for b in appbufs]\n",
    "            \n",
    "\n",
    "invapp = SingleKernelRunner(iarray, np.copy(iarray))\n",
    "invapp.run()\n"
   ]
  },
  {
   "cell_type": "code",
   "execution_count": null,
   "id": "0b3fb1a0",
   "metadata": {},
   "outputs": [],
   "source": [
    "\n",
    "import numpy as np\n",
    "from npu.lib.kernels import Inverse\n",
    "\n",
    "a = np.arange(16)\n",
    "invappbuilder = SingleKernelApp(Inverse)\n",
    "invappbuilder.build(a, a.nbytes)\n",
    "\n",
    "invapp = SingleKernelRunner(a, a)\n",
    "invapp.run()"
   ]
  }
 ],
 "metadata": {
  "kernelspec": {
   "display_name": "Python 3 (ipykernel)",
   "language": "python",
   "name": "python3"
  },
  "language_info": {
   "codemirror_mode": {
    "name": "ipython",
    "version": 3
   },
   "file_extension": ".py",
   "mimetype": "text/x-python",
   "name": "python",
   "nbconvert_exporter": "python",
   "pygments_lexer": "ipython3",
   "version": "3.9.2"
  }
 },
 "nbformat": 4,
 "nbformat_minor": 5
}
