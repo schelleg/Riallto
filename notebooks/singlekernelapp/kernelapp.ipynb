{
 "cells": [
  {
   "cell_type": "code",
   "execution_count": 1,
   "id": "786af60e-ddf1-458c-a7f6-97343bd721db",
   "metadata": {},
   "outputs": [],
   "source": [
    "from npu.build.appbuilder import AppBuilder\n",
    "from npu.build.kernel import Kernel\n",
    "from npu.runtime import AppRunner\n",
    "import numpy as np\n",
    "\n",
    "class SingleKernelApp(AppBuilder):\n",
    "    def __init__(self, kernelfx, inputargs, outputargs):\n",
    "        self.kernelfx = kernelfx\n",
    "        self.inputargs = inputargs\n",
    "        self.args = inputargs + outputargs\n",
    "        self.bufs = [b for b in self.args if isinstance(b, np.ndarray)]\n",
    "        self.app = None\n",
    "        super().__init__()\n",
    "\n",
    "    def callgraph(self, *args, **kwargs):\n",
    "        return self.kernelfx(*args, **kwargs)\n",
    "\n",
    "    def build(self):\n",
    "        super().build(*self.inputargs)\n",
    "    \n",
    "    def run(self):\n",
    "        if self.app is None:\n",
    "            self.app = AppRunner('SingleKernelApp.xclbin') \n",
    "\n",
    "        appbufs = [self.app.allocate(shape=b.shape, dtype=b.dtype) for b in self.bufs]\n",
    "        _ = [np.copyto(appbufs[ix], b) for ix,b in enumerate(self.bufs)]\n",
    "        _ = [b.sync_to_npu() for b in appbufs]\n",
    "\n",
    "        self.app.call(*appbufs)\n",
    "\n",
    "        _ = [b.sync_from_npu() for b in appbufs]\n",
    "        _ = [print(b) for b in appbufs]        "
   ]
  },
  {
   "cell_type": "code",
   "execution_count": 2,
   "id": "324bc90c-9636-48c3-9508-54d7d1578680",
   "metadata": {},
   "outputs": [],
   "source": [
    "%%kernel\n",
    "\n",
    "#include <stdint.h>\n",
    "#include <stdio.h>\n",
    "#include <stdlib.h>\n",
    "#include <aie_api/aie.hpp>\n",
    "\n",
    "extern \"C\" {\n",
    "  void vectoradd(uint8_t* a, uint8_t* b, uint8_t* c, const uint32_t nbytes) {\n",
    "\n",
    "    ::aie::vector<uint8_t, 32> ai, bi, ci;\n",
    "\n",
    "    for(int j=0; j<nbytes; j+=32) {\n",
    "        ai = ::aie::load_v<32>(a);\n",
    "        a += 32;\n",
    "        bi = ::aie::load_v<32>(b);\n",
    "        b += 32;\n",
    "        ci = ::aie::add(ai, bi);\n",
    "        ::aie::store_v(c, ci);\n",
    "        c += 32;\n",
    "    }\n",
    " }\n",
    "}\n"
   ]
  },
  {
   "cell_type": "code",
   "execution_count": 3,
   "id": "03c06c55-cc5c-4780-904d-23b0317a16a5",
   "metadata": {},
   "outputs": [],
   "source": [
    "a = np.random.randint(0, 256, size=4096, dtype=np.uint8)\n",
    "b = np.random.randint(0, 256, size=4096, dtype=np.uint8)\n",
    "c = np.zeros(4096, dtype=np.uint8)"
   ]
  },
  {
   "cell_type": "code",
   "execution_count": 4,
   "id": "7922862e-b8ff-40f4-a93c-3d2b137db316",
   "metadata": {},
   "outputs": [],
   "source": [
    "vectoradd.c.array = c   # So we don't have to write a behavioral model, just set the C array dims\n",
    "vaddapp = SingleKernelApp(vectoradd, inputargs=[a, b, a.nbytes], outputargs=[c])"
   ]
  },
  {
   "cell_type": "code",
   "execution_count": 5,
   "id": "32e0e728-6f2d-43ec-a143-35827175e15f",
   "metadata": {},
   "outputs": [
    {
     "name": "stdout",
     "output_type": "stream",
     "text": [
      "Using cached vectoradd kernel object file...\n",
      "Building the xclbin...\n",
      "Successfully Building Application... SingleKernelApp.xclbin & SingleKernelApp.seq delivered\n"
     ]
    }
   ],
   "source": [
    "vaddapp.build()"
   ]
  },
  {
   "cell_type": "code",
   "execution_count": 6,
   "id": "5b0acb90-7d48-4a10-947a-147f582990ab",
   "metadata": {},
   "outputs": [
    {
     "name": "stdout",
     "output_type": "stream",
     "text": [
      "[ 77  36 249 ... 144  14  48]\n",
      "[207  22  78 ...  41  92  74]\n",
      "[ 28  58  71 ... 185 106 122]\n"
     ]
    }
   ],
   "source": [
    "vaddapp.run()"
   ]
  },
  {
   "cell_type": "code",
   "execution_count": 7,
   "id": "5dcba9d4-4c85-456c-a80a-ad99166df2c8",
   "metadata": {},
   "outputs": [],
   "source": [
    "del vaddapp.app"
   ]
  },
  {
   "cell_type": "code",
   "execution_count": null,
   "id": "9ebb2050-e590-4dad-afcc-a24fbeeb22fe",
   "metadata": {},
   "outputs": [],
   "source": []
  },
  {
   "cell_type": "code",
   "execution_count": 12,
   "id": "33c071ae-d3da-4a77-8496-514e78280895",
   "metadata": {},
   "outputs": [
    {
     "name": "stdout",
     "output_type": "stream",
     "text": [
      "// Copyright 2023 Advanced Micro Devices, Inc.\n",
      "// SPDX-License-Identifier: MIT\n",
      "\n",
      "#include <stdint.h>\n",
      "#include <stdio.h>\n",
      "#include <stdlib.h>\n",
      "#include <aie_api/aie.hpp>\n",
      "\n",
      "extern \"C\" {\n",
      "\n",
      "void inverse(uint8_t *in_buffer, uint8_t* out_buffer, uint32_t nbytes) {\n",
      "    ::aie::vector<uint8_t, 32> buffer;\n",
      "    ::aie::vector<uint8_t, 32> inverted_buffer;\n",
      "    uint16_t loop_count = (nbytes) >> 5;\n",
      "    for(int j=0; j<loop_count; j++) {\n",
      "        buffer = ::aie::load_v<32>(in_buffer);\n",
      "        inverted_buffer = ::aie::sub((uint8_t)255, buffer);\n",
      "        in_buffer += 32;\n",
      "        ::aie::store_v((uint8_t*)out_buffer, inverted_buffer);\n",
      "        out_buffer += 32;\n",
      "    }\n",
      "} \n",
      "\n",
      "}\n"
     ]
    }
   ],
   "source": [
    "from npu.lib.kernels import Inverse\n",
    "inv = Inverse()\n",
    "print(inv.srccode)"
   ]
  },
  {
   "cell_type": "code",
   "execution_count": 13,
   "id": "343e601f-df6c-4a3f-814f-633916712e38",
   "metadata": {},
   "outputs": [],
   "source": [
    "invapp = SingleKernelApp(inv, inputargs=[a, a.nbytes], outputargs=[b])"
   ]
  },
  {
   "cell_type": "code",
   "execution_count": 14,
   "id": "efa7d916-6240-46df-b0ca-db4c9907d32a",
   "metadata": {},
   "outputs": [
    {
     "name": "stdout",
     "output_type": "stream",
     "text": [
      "Using cached inverse kernel object file...\n",
      "Building the xclbin...\n",
      "Successfully Building Application... SingleKernelApp.xclbin & SingleKernelApp.seq delivered\n"
     ]
    }
   ],
   "source": [
    "invapp.build()"
   ]
  },
  {
   "cell_type": "code",
   "execution_count": 15,
   "id": "02efc1a9-35c4-4fba-8016-512b11b78504",
   "metadata": {},
   "outputs": [
    {
     "name": "stdout",
     "output_type": "stream",
     "text": [
      "[ 77  36 249 ... 144  14  48]\n",
      "[178 219   6 ... 111 241 207]\n"
     ]
    }
   ],
   "source": [
    "invapp.run()"
   ]
  },
  {
   "cell_type": "code",
   "execution_count": 16,
   "id": "8978d25e-b2b4-40e9-a4de-807e2f672c8a",
   "metadata": {},
   "outputs": [],
   "source": [
    "del invapp"
   ]
  },
  {
   "cell_type": "code",
   "execution_count": null,
   "id": "23dd3671-c8d6-466b-98d2-7edb9d804f01",
   "metadata": {},
   "outputs": [],
   "source": []
  }
 ],
 "metadata": {
  "kernelspec": {
   "display_name": "Python 3 (ipykernel)",
   "language": "python",
   "name": "python3"
  },
  "language_info": {
   "codemirror_mode": {
    "name": "ipython",
    "version": 3
   },
   "file_extension": ".py",
   "mimetype": "text/x-python",
   "name": "python",
   "nbconvert_exporter": "python",
   "pygments_lexer": "ipython3",
   "version": "3.9.2"
  }
 },
 "nbformat": 4,
 "nbformat_minor": 5
}
