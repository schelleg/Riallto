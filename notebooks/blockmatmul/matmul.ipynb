{
 "cells": [
  {
   "cell_type": "code",
   "execution_count": null,
   "id": "80bb83b1-c983-44f2-ab72-0247a1f43daf",
   "metadata": {},
   "outputs": [],
   "source": [
    "import numpy as np\n",
    "\n",
    "class MTIterator2D:\n",
    "    def __init__(self, a, blocksize, axis=0):\n",
    "        self.origa = a\n",
    "        self.rows = self.origa.shape[0]\n",
    "        self.cols = self.origa.shape[1]\n",
    "        self.blocksize = blocksize\n",
    "        self.axis= axis\n",
    "\n",
    "        self.a = self.to_blocks()    \n",
    "     \n",
    "    def __getitem__(self,i):\n",
    "        return self.a[i]\n",
    "\n",
    "    def __setitem__(self,i,val):\n",
    "        self.a[i] = val\n",
    "\n",
    "    def shape(self,i):\n",
    "        return a.shape[i]\n",
    "\n",
    "    \n",
    "    def to_blocks(self):\n",
    "        '''convert the original matrix to an array of blocks'''\n",
    "        squares = []\n",
    "\n",
    "        for i in range(0, self.rows, self.blocksize):\n",
    "            for j in range(0, self.cols, self.blocksize):\n",
    "                square = self.origa[i:i+self.blocksize, j:j+self.blocksize]\n",
    "                squares.append(square)\n",
    "\n",
    "        allblocks = np.concatenate(squares).reshape(self.rows // self.blocksize, \n",
    "                                                    self.cols // self.blocksize, \n",
    "                                                    self.blocksize, \n",
    "                                                    self.blocksize)\n",
    "        return allblocks\n",
    "\n",
    "\n",
    "class BlockMatMul:\n",
    "    def __init__(self):\n",
    "        pass\n",
    "    def __call__(self,a,b,c):\n",
    "        return a @ b + c\n",
    "\n",
    "class BlockMatMul:  \n",
    "    def __init__(self):\n",
    "        self.bmm = BlockMatMul()\n",
    "        super.__init__()\n",
    "    \n",
    "    def callgraph(self, mema, memb, memc, blocksize):\n",
    "        a, b, c = [MTIterator2D(m, blocksize) for m in [mema, memb, memc]]\n",
    "        \n",
    "        # Block Matrix Multiply with write to C once per block\n",
    "        for i in range(a.shape[0]):\n",
    "            for j in range(b.shape[1]):\n",
    "                for k in range(a.shape[1]):\n",
    "                    c[i,j] = bmm(a[i, k], b[k, j], c[i, j])\n",
    "        \n",
    "            memc[i,j] = c[i,j]\n",
    "\n",
    "\n",
    "mema = np.random.randint(0, 10, size=(6, 6))\n",
    "memb = np.random.randint(0, 10, size=(6, 6))\n",
    "memc = np.zeros((mema.shape[0], memb.shape[1]))\n",
    "block_size = 2\n",
    "\n",
    "\n",
    "riallto_bmm = BlockMatMul()\n",
    "riallto_bmm(mema,memb,memc)\n",
    "\n"
   ]
  },
  {
   "cell_type": "code",
   "execution_count": 1,
   "id": "927d519b-bc30-4486-8fee-0bd69758d166",
   "metadata": {},
   "outputs": [
    {
     "name": "stdout",
     "output_type": "stream",
     "text": [
      "0\n",
      "1\n",
      "2\n"
     ]
    }
   ],
   "source": [
    "for k in range(3):\n",
    "    print(k)"
   ]
  },
  {
   "cell_type": "code",
   "execution_count": null,
   "id": "85595e4a-eccf-4cd0-ae5a-17f88976b108",
   "metadata": {},
   "outputs": [],
   "source": []
  },
  {
   "cell_type": "code",
   "execution_count": null,
   "id": "653900e8-b50f-46b1-95c6-90da127ebccf",
   "metadata": {},
   "outputs": [],
   "source": [
    "# https://github.com/Xilinx/mlir-aie/blob/main/programming_examples/basic/matrix_multiplication/single_core/aie2.py\n",
    "\n",
    "# Need to iterate over A, B, C using memtile iterators and block matrix multiply\n"
   ]
  },
  {
   "cell_type": "code",
   "execution_count": 37,
   "id": "79757fce-c681-4cb6-ba09-1b46fa7d7b01",
   "metadata": {},
   "outputs": [],
   "source": [
    "import numpy as np\n",
    "\n",
    "\n",
    "class BlockMatMul:\n",
    "    def __init__(self):\n",
    "        pass\n",
    "    def __call__(self,a,b,c):\n",
    "        return np.dot(a,b) + c\n",
    "\n",
    "class MTIterator1D:\n",
    "    def __init__(self, a, axis=0):\n",
    "        self.origa = a\n",
    "        self.a = self.to_blocks()    \n",
    "        self.axis= axis\n",
    "\n",
    "    def __len__(self):\n",
    "        if self.axis==0:\n",
    "            return len(self.a)\n",
    "        else:\n",
    "            return len(self.a[0])        \n",
    "   \n",
    "    def __getitem__(self,i):\n",
    "        if self.axis==0:\n",
    "            return self.a[i, :]\n",
    "        else:\n",
    "            return self.a[:, i]\n",
    "\n",
    "    def __setitem__(self,i,val):\n",
    "        if self.axis==0:\n",
    "            self.a[i, :] = val\n",
    "        else:\n",
    "            self.a[:, i] = val\n",
    "    \n",
    "    def to_blocks(self):\n",
    "        block1 = self.origa[:2, :2]\n",
    "        block2 = self.origa[:2, 2:]\n",
    "        block3 = self.origa[2:, :2]\n",
    "        block4 = self.origa[2:, 2:]\n",
    "        return np.array([[block1, block2],[block3, block4]])"
   ]
  },
  {
   "cell_type": "code",
   "execution_count": 38,
   "id": "bfacd377-aba8-47d4-8a1e-2291478aef2a",
   "metadata": {},
   "outputs": [
    {
     "data": {
      "text/plain": [
       "array([[ 90., 100., 110., 120.],\n",
       "       [202., 228., 254., 280.],\n",
       "       [314., 356., 398., 440.],\n",
       "       [426., 484., 542., 600.]])"
      ]
     },
     "execution_count": 38,
     "metadata": {},
     "output_type": "execute_result"
    }
   ],
   "source": [
    "import numpy as np\n",
    "\n",
    "mema = np.array([[1, 2, 3, 4],\n",
    "                      [5, 6, 7, 8],\n",
    "                      [9, 10, 11, 12],\n",
    "                      [13, 14, 15, 16]])\n",
    "\n",
    "memb = np.array([[1, 2, 3, 4],\n",
    "                      [5, 6, 7, 8],\n",
    "                      [9, 10, 11, 12],\n",
    "                      [13, 14, 15, 16]])\n",
    "\n",
    "memc = np.zeros(16).reshape(4,4)\n",
    "\n",
    "\n",
    "bmm = BlockMatMul()\n",
    "bmm(mema, memb, memc)"
   ]
  },
  {
   "cell_type": "code",
   "execution_count": 39,
   "id": "f9b9eab4-62b4-40a5-bda0-e5331706918d",
   "metadata": {},
   "outputs": [
    {
     "data": {
      "text/plain": [
       "True"
      ]
     },
     "execution_count": 39,
     "metadata": {},
     "output_type": "execute_result"
    }
   ],
   "source": [
    "np.array_equal(np.dot(mema,memb),bmm(mema, memb, memc))"
   ]
  },
  {
   "cell_type": "code",
   "execution_count": 40,
   "id": "c0eaa0d9-c687-488d-a889-4f3f8667878c",
   "metadata": {},
   "outputs": [
    {
     "data": {
      "text/plain": [
       "array([[ 90, 100, 110, 120],\n",
       "       [202, 228, 254, 280],\n",
       "       [314, 356, 398, 440],\n",
       "       [426, 484, 542, 600]])"
      ]
     },
     "execution_count": 40,
     "metadata": {},
     "output_type": "execute_result"
    }
   ],
   "source": [
    "mema @ memb"
   ]
  },
  {
   "cell_type": "code",
   "execution_count": 41,
   "id": "494c56cb-8445-465d-8941-29fac25b889d",
   "metadata": {},
   "outputs": [
    {
     "ename": "ValueError",
     "evalue": "could not broadcast input array from shape (2,2,2,2) into shape (2,2,2)",
     "output_type": "error",
     "traceback": [
      "\u001b[1;31m---------------------------------------------------------------------------\u001b[0m",
      "\u001b[1;31mValueError\u001b[0m                                Traceback (most recent call last)",
      "Cell \u001b[1;32mIn[41], line 17\u001b[0m\n\u001b[0;32m     15\u001b[0m \u001b[38;5;28;01mfor\u001b[39;00m i \u001b[38;5;129;01min\u001b[39;00m \u001b[38;5;28mrange\u001b[39m(\u001b[38;5;28mlen\u001b[39m(a)):\n\u001b[0;32m     16\u001b[0m     \u001b[38;5;28;01mfor\u001b[39;00m j \u001b[38;5;129;01min\u001b[39;00m \u001b[38;5;28mrange\u001b[39m(\u001b[38;5;28mlen\u001b[39m(b)):\n\u001b[1;32m---> 17\u001b[0m         \u001b[43mc\u001b[49m\u001b[43m[\u001b[49m\u001b[43mi\u001b[49m\u001b[43m]\u001b[49m \u001b[38;5;241m=\u001b[39m bmm(a[i], b[j], c[i])\n\u001b[0;32m     19\u001b[0m c\u001b[38;5;241m.\u001b[39ma\u001b[38;5;241m.\u001b[39mreshape(\u001b[38;5;241m4\u001b[39m,\u001b[38;5;241m4\u001b[39m)\n",
      "Cell \u001b[1;32mIn[37], line 30\u001b[0m, in \u001b[0;36mMTIterator1D.__setitem__\u001b[1;34m(self, i, val)\u001b[0m\n\u001b[0;32m     28\u001b[0m \u001b[38;5;28;01mdef\u001b[39;00m \u001b[38;5;21m__setitem__\u001b[39m(\u001b[38;5;28mself\u001b[39m,i,val):\n\u001b[0;32m     29\u001b[0m     \u001b[38;5;28;01mif\u001b[39;00m \u001b[38;5;28mself\u001b[39m\u001b[38;5;241m.\u001b[39maxis\u001b[38;5;241m==\u001b[39m\u001b[38;5;241m0\u001b[39m:\n\u001b[1;32m---> 30\u001b[0m         \u001b[38;5;28;43mself\u001b[39;49m\u001b[38;5;241;43m.\u001b[39;49m\u001b[43ma\u001b[49m\u001b[43m[\u001b[49m\u001b[43mi\u001b[49m\u001b[43m,\u001b[49m\u001b[43m \u001b[49m\u001b[43m:\u001b[49m\u001b[43m]\u001b[49m \u001b[38;5;241m=\u001b[39m val\n\u001b[0;32m     31\u001b[0m     \u001b[38;5;28;01melse\u001b[39;00m:\n\u001b[0;32m     32\u001b[0m         \u001b[38;5;28mself\u001b[39m\u001b[38;5;241m.\u001b[39ma[:, i] \u001b[38;5;241m=\u001b[39m val\n",
      "\u001b[1;31mValueError\u001b[0m: could not broadcast input array from shape (2,2,2,2) into shape (2,2,2)"
     ]
    }
   ],
   "source": [
    "import numpy as np\n",
    "\n",
    "mema = np.random.randint(0, 10, size=(6, 6))\n",
    "memb = np.random.randint(0, 10, size=(6, 6))\n",
    "memc = np.zeros((A.shape[0], B.shape[1]))\n",
    "block_size = 2\n",
    "\n",
    "a = MTIterator2D(mema, blocksize)\n",
    "b = MTIterator2D(memb, blocksize)\n",
    "c = MTIterator2D(memc, blocksize)\n",
    "\n",
    "# Iterate over blocks\n",
    "for i in range(a.shape[0]):\n",
    "    for j in range(b.shape[1]):\n",
    "        for k in range(a.shape[1]):\n",
    "            bmm(a[i, k], b[k, j], c[i, j])\n",
    "\n",
    "    memc[i,j] = c[i,j]"
   ]
  },
  {
   "cell_type": "code",
   "execution_count": 27,
   "id": "4e5afeaa-ee13-4a58-bca3-93f2125a79a4",
   "metadata": {},
   "outputs": [
    {
     "data": {
      "text/plain": [
       "array([[ 90, 100, 110, 120],\n",
       "       [202, 228, 254, 280],\n",
       "       [314, 356, 398, 440],\n",
       "       [426, 484, 542, 600]])"
      ]
     },
     "execution_count": 27,
     "metadata": {},
     "output_type": "execute_result"
    }
   ],
   "source": [
    "np.dot(mema,mema)"
   ]
  },
  {
   "cell_type": "code",
   "execution_count": 50,
   "id": "e91f105a-d80f-4ed4-a079-72238eca5ea4",
   "metadata": {},
   "outputs": [
    {
     "name": "stdout",
     "output_type": "stream",
     "text": [
      "Matrix A:\n",
      "[[4 2 3 2 3 4]\n",
      " [9 9 0 0 5 8]\n",
      " [1 5 0 3 3 5]\n",
      " [8 7 2 2 5 7]\n",
      " [4 3 5 8 3 2]\n",
      " [6 3 9 2 4 3]]\n",
      "\n",
      "Matrix B:\n",
      "[[8 0 5 7 3 1]\n",
      " [5 4 2 1 5 8]\n",
      " [5 4 0 4 7 5]\n",
      " [7 5 5 1 3 6]\n",
      " [6 7 0 2 1 5]\n",
      " [4 1 8 3 6 2]]\n",
      "\n",
      "Resulting Matrix C:\n",
      "[[105.  55.  66.  62.  76.  70.]\n",
      " [179.  79. 127. 106. 125. 122.]\n",
      " [ 92.  61.  70.  36.  70.  84.]\n",
      " [181.  88. 120. 104. 126. 125.]\n",
      " [154.  95.  82.  71. 101. 120.]\n",
      " [158.  89.  70. 100. 124. 113.]]\n"
     ]
    }
   ],
   "source": [
    "import numpy as np\n",
    "\n",
    "def block_matrix_multiply(A, B, block_size):\n",
    "    # Check if the dimensions are compatible for block matrix multiplication\n",
    "    if A.shape[1] != B.shape[0]:\n",
    "        raise ValueError(\"The number of columns in A must be equal to the number of rows in B.\")\n",
    "\n",
    "    # Initialize the resulting matrix C with zeros\n",
    "    C = np.zeros((A.shape[0], B.shape[1]))\n",
    "\n",
    "    # Iterate over blocks\n",
    "    for i in range(0, A.shape[0], block_size):\n",
    "        for j in range(0, B.shape[1], block_size):\n",
    "            for k in range(0, A.shape[1], block_size):\n",
    "                # Calculate block multiplication\n",
    "                C[i:i+block_size, j:j+block_size] += np.dot(A[i:i+block_size, k:k+block_size],\n",
    "                                                             B[k:k+block_size, j:j+block_size])\n",
    "\n",
    "    return C\n",
    "\n",
    "# Example usage:\n",
    "# Create two matrices A and B\n",
    "A = np.random.randint(0, 10, size=(6, 6))\n",
    "B = np.random.randint(0, 10, size=(6, 6))\n",
    "block_size = 2\n",
    "\n",
    "# Perform block matrix multiplication\n",
    "C = block_matrix_multiply(A, B, block_size)\n",
    "\n",
    "# Display the results\n",
    "print(\"Matrix A:\")\n",
    "print(A)\n",
    "print(\"\\nMatrix B:\")\n",
    "print(B)\n",
    "print(\"\\nResulting Matrix C:\")\n",
    "print(C)\n",
    "\n",
    "\n"
   ]
  },
  {
   "cell_type": "code",
   "execution_count": 48,
   "id": "eb055dcb-0c1b-47ac-a3e0-bb440978c256",
   "metadata": {},
   "outputs": [
    {
     "name": "stdout",
     "output_type": "stream",
     "text": [
      "Matrix A:\n",
      "[[7 3 8 9 3 7]\n",
      " [2 8 4 4 5 8]\n",
      " [5 4 0 1 6 6]\n",
      " [3 6 5 8 2 4]\n",
      " [0 7 2 6 4 1]\n",
      " [4 7 1 7 6 0]]\n",
      "\n",
      "Matrix B:\n",
      "[[8 0 5 3 9 4]\n",
      " [1 0 6 8 6 5]\n",
      " [9 3 8 8 6 7]\n",
      " [8 3 3 6 0 4]\n",
      " [1 1 5 4 0 6]\n",
      " [6 5 2 5 2 4]]\n",
      "\n",
      "Resulting Matrix C:\n",
      "[[248.  89. 173. 210. 143. 181.]\n",
      " [145.  69. 143. 186. 106. 154.]\n",
      " [ 94.  39.  94. 107.  81. 104.]\n",
      " [165.  61. 133. 173. 101. 137.]\n",
      " [ 83.  33.  98. 129.  56. 101.]\n",
      " [110.  30. 121. 142.  84. 122.]]\n",
      "True\n"
     ]
    }
   ],
   "source": [
    "import numpy as np\n",
    "\n",
    "def block_matrix_multiply(A, B, block_size):\n",
    "    # Check if the dimensions are compatible for block matrix multiplication\n",
    "    if A.shape[1] != B.shape[0]:\n",
    "        raise ValueError(\"The number of columns in A must be equal to the number of rows in B.\")\n",
    "\n",
    "    # Initialize the resulting matrix C with zeros\n",
    "    C = np.zeros((A.shape[0], B.shape[1]))\n",
    "\n",
    "    # Iterate over blocks\n",
    "    for i in range(0, A.shape[0], block_size):\n",
    "        for j in range(0, B.shape[1], block_size):\n",
    "            for k in range(0, A.shape[1], block_size):\n",
    "                # Calculate block multiplication\n",
    "                C[i:i+block_size, j:j+block_size] += np.dot(A[i:i+block_size, k:k+block_size],\n",
    "                                                             B[k:k+block_size, j:j+block_size])\n",
    "\n",
    "    return C\n",
    "\n",
    "# Example usage:\n",
    "# Create two matrices A and B\n",
    "A = np.random.randint(0, 10, size=(6, 6))\n",
    "B = np.random.randint(0, 10, size=(6, 6))\n",
    "block_size = 2\n",
    "\n",
    "# Perform block matrix multiplication\n",
    "C = block_matrix_multiply(A, B, block_size)\n",
    "\n",
    "# Display the results\n",
    "print(\"Matrix A:\")\n",
    "print(A)\n",
    "print(\"\\nMatrix B:\")\n",
    "print(B)\n",
    "print(\"\\nResulting Matrix C:\")\n",
    "print(C)\n",
    "\n",
    "print(np.array_equal(C, A @ B))"
   ]
  },
  {
   "cell_type": "code",
   "execution_count": 49,
   "id": "a574e2b5-d941-48e6-a3e2-b9b8684e631d",
   "metadata": {},
   "outputs": [
    {
     "name": "stdout",
     "output_type": "stream",
     "text": [
      "True\n"
     ]
    }
   ],
   "source": [
    "import numpy as np\n",
    "\n",
    "def block_matrix_multiply(A, B, block_size):\n",
    "    # Check if the dimensions are compatible for block matrix multiplication\n",
    "    if A.shape[1] != B.shape[0]:\n",
    "        raise ValueError(\"The number of columns in A must be equal to the number of rows in B.\")\n",
    "\n",
    "    # Initialize the resulting matrix C with zeros\n",
    "    C = np.zeros((A.shape[0], B.shape[1]))\n",
    "\n",
    "    # Iterate over blocks\n",
    "    for i in range(A.shape[0]):\n",
    "        for j in range(B.shape[1]):\n",
    "            for k in range(A.shape[1]):\n",
    "                # Calculate block multiplication\n",
    "                C[i, j] += np.dot(A[i, k], B[k, j])\n",
    "\n",
    "    return C\n",
    "\n",
    "\n",
    "def block_matrix_multiply(A, B, C):\n",
    "\n",
    "    for i in range(len(A)):\n",
    "        for j in range(len(B)):\n",
    "            for k in range(len(A[0]):\n",
    "                C[i, j] += np.dot(A[i, k], B[k, j])\n",
    "\n",
    "    return C\n",
    "\n",
    "\n",
    "\n",
    "\n",
    "# Example usage:\n",
    "# Create two matrices A and B\n",
    "A = np.random.randint(0, 10, size=(6, 6))\n",
    "B = np.random.randint(0, 10, size=(6, 6))\n",
    "block_size = 2\n",
    "\n",
    "# Perform block matrix multiplication\n",
    "C = block_matrix_multiply(A, B, block_size)\n",
    "\n",
    "# Display the results\n",
    "print(np.array_equal(C, A @ B))\n",
    "\n"
   ]
  }
 ],
 "metadata": {
  "kernelspec": {
   "display_name": "Python 3 (ipykernel)",
   "language": "python",
   "name": "python3"
  },
  "language_info": {
   "codemirror_mode": {
    "name": "ipython",
    "version": 3
   },
   "file_extension": ".py",
   "mimetype": "text/x-python",
   "name": "python",
   "nbconvert_exporter": "python",
   "pygments_lexer": "ipython3",
   "version": "3.9.2"
  }
 },
 "nbformat": 4,
 "nbformat_minor": 5
}
