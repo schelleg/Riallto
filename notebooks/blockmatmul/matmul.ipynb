{
 "cells": [
  {
   "cell_type": "code",
   "execution_count": 1,
   "id": "48d26e37-2c88-44f9-b647-690940eeea41",
   "metadata": {},
   "outputs": [],
   "source": [
    "import sys\n",
    "sys.path.append(\"../..\")"
   ]
  },
  {
   "attachments": {
    "e40bfbc5-390c-4bd4-b19d-d2d3d547563f.jpg": {
     "image/jpeg": "[encoded data removed]"
    }
   },
   "cell_type": "markdown",
   "id": "67d42d48-dbe5-4b68-99b8-57a4510e6b22",
   "metadata": {},
   "source": [
    "## Proof of Concept: Block Matrix Multiply with new MTIterator2D\n",
    "\n",
    "One performance abstraction we've seen is a `block matrix multiply`.  Here, an C = A x B has A and B decomposed into 2D blocks that are delivered in smaller chunks.  This is useful for AIE applications where there is some data reuse in the MemTile.  Below is a reference `MTIterator2D` which would allow us to reuse the A blocks while new B's are brought in\n",
    "\n",
    "\n",
    "![bmm.jpg](attachment:e40bfbc5-390c-4bd4-b19d-d2d3d547563f.jpg)\n",
    "\n",
    "https://malithjayaweera.com/2020/07/blocked-matrix-multiplication/\n",
    "\n"
   ]
  },
  {
   "cell_type": "code",
   "execution_count": 2,
   "id": "2609fe5d-8d6c-4720-b0b1-183af7d33724",
   "metadata": {},
   "outputs": [],
   "source": [
    "# A reference blockmatmul kernel that would need written into C++\n",
    "import numpy as np\n",
    "\n",
    "class BlockMatMul:\n",
    "    def __init__(self):\n",
    "        pass\n",
    "    def __call__(self,a,b,c):\n",
    "        return np.dot(a,b) + c"
   ]
  },
  {
   "cell_type": "code",
   "execution_count": 3,
   "id": "80bb83b1-c983-44f2-ab72-0247a1f43daf",
   "metadata": {},
   "outputs": [],
   "source": [
    "# A reference MTIterator2D class that translates block slicing into \n",
    "# the underlying buffer offsets\n",
    "class MTIterator2D:\n",
    "    def __init__(self, origa, blocksize):\n",
    "        self.a = np.copy(origa)\n",
    "        self.rows = self.a.shape[0] // blocksize\n",
    "        self.cols = self.a.shape[1] // blocksize\n",
    "        self.bs = blocksize  \n",
    "\n",
    "    def __getitem__(self,s):\n",
    "        i, j = s\n",
    "        return self.a[i*self.bs:i*self.bs+self.bs, j*self.bs:j*self.bs+self.bs]\n",
    "\n",
    "    def __setitem__(self,s,val):\n",
    "        i, j = s\n",
    "        self.a[i*self.bs:i*self.bs+self.bs, j*self.bs:j*self.bs+self.bs] = val"
   ]
  },
  {
   "cell_type": "code",
   "execution_count": 4,
   "id": "927d519b-bc30-4486-8fee-0bd69758d166",
   "metadata": {},
   "outputs": [],
   "source": [
    "# The actual application - the indexing is more complex than we\n",
    "# support in Riallto v1, but shows how 2D indexing models the needed data movement\n",
    "from npu.build.appbuilder import AppBuilder\n",
    "\n",
    "class BlockMatMulApp(AppBuilder):  \n",
    "    def __init__(self,blocksize):\n",
    "        self.bmm = BlockMatMul()\n",
    "        self.bs = blocksize\n",
    "        super().__init__()\n",
    "\n",
    "    def callgraph(self, mema, memb):\n",
    "        memc = np.zeros((mema.shape[0], memb.shape[1]), dtype=np.int32)\n",
    "        a, b, c = [MTIterator2D(m, self.bs) for m in [mema, memb, memc]]\n",
    "        \n",
    "        for i in range(a.rows):\n",
    "            for j in range(b.cols):\n",
    "                for k in range(a.cols):\n",
    "                    c[i,j] = self.bmm(a[i, k], b[k, j], c[i, j])    \n",
    "\n",
    "                # flatten out memc, keeping it 2D\n",
    "                memc[i*self.bs:i*self.bs+self.bs, \n",
    "                     j*self.bs:j*self.bs+self.bs] = c[i,j]\n",
    "        \n",
    "        return memc\n",
    "        "
   ]
  },
  {
   "cell_type": "code",
   "execution_count": 5,
   "id": "85595e4a-eccf-4cd0-ae5a-17f88976b108",
   "metadata": {},
   "outputs": [],
   "source": [
    "mema = np.random.randint(0, 10, size=(6, 6))\n",
    "memb = np.random.randint(0, 10, size=(6, 6))\n",
    "block_size = 2"
   ]
  },
  {
   "cell_type": "code",
   "execution_count": 6,
   "id": "653900e8-b50f-46b1-95c6-90da127ebccf",
   "metadata": {},
   "outputs": [
    {
     "name": "stdout",
     "output_type": "stream",
     "text": [
      "[[ 88  42  63  87  57  36]\n",
      " [ 56  46  50  50  65  32]\n",
      " [111  78 102 128 101 112]\n",
      " [160  80 139 132 110  26]\n",
      " [192 155 156 178 198 115]\n",
      " [ 73  69  48  71  63  57]]\n"
     ]
    }
   ],
   "source": [
    "bmm = BlockMatMulApp(block_size)\n",
    "print(bmm(mema,memb))"
   ]
  },
  {
   "cell_type": "code",
   "execution_count": 7,
   "id": "0132b967-038b-4ffd-997b-a8f8566d30c7",
   "metadata": {},
   "outputs": [
    {
     "data": {
      "text/plain": [
       "True"
      ]
     },
     "execution_count": 7,
     "metadata": {},
     "output_type": "execute_result"
    }
   ],
   "source": [
    "# quick check that results are as expected\n",
    "np.array_equal(np.dot(mema,memb),bmm(mema, memb))"
   ]
  }
 ],
 "metadata": {
  "kernelspec": {
   "display_name": "Python 3 (ipykernel)",
   "language": "python",
   "name": "python3"
  },
  "language_info": {
   "codemirror_mode": {
    "name": "ipython",
    "version": 3
   },
   "file_extension": ".py",
   "mimetype": "text/x-python",
   "name": "python",
   "nbconvert_exporter": "python",
   "pygments_lexer": "ipython3",
   "version": "3.9.2"
  }
 },
 "nbformat": 4,
 "nbformat_minor": 5
}
